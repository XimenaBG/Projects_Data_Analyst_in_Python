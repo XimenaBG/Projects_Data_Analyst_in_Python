{
  "nbformat": 4,
  "nbformat_minor": 0,
  "metadata": {
    "colab": {
      "name": "Exploring Ebay Car Sales Data.ipynb",
      "provenance": [],
      "authorship_tag": "ABX9TyOMQZ3x7gzVXXQYEa5+XXFJ",
      "include_colab_link": true
    },
    "kernelspec": {
      "name": "python3",
      "display_name": "Python 3"
    }
  },
  "cells": [
    {
      "cell_type": "markdown",
      "metadata": {
        "id": "view-in-github",
        "colab_type": "text"
      },
      "source": [
        "<a href=\"https://colab.research.google.com/github/XimenaBG/Projects_Data_Analyst_in_Python/blob/main/Exploring_Ebay_Car_Sales_Data.ipynb\" target=\"_parent\"><img src=\"https://colab.research.google.com/assets/colab-badge.svg\" alt=\"Open In Colab\"/></a>"
      ]
    },
    {
      "cell_type": "markdown",
      "metadata": {
        "id": "OmXPcfikSOY5"
      },
      "source": [
        "# **Guided Project:** Exploring Ebay Car Sales Data\r\n"
      ]
    },
    {
      "cell_type": "markdown",
      "metadata": {
        "id": "ZtjL6O0FSUhh"
      },
      "source": [
        "In this guided project, i'll work with a dataset of used cars from eBay Kleinanzeigen, a classifieds section of the German eBay website.\r\n",
        "The original dataset isn't available on Kaggle anymore, but you still can find it in t this [link.](https://data.world/data-society/used-cars-data)\r\n",
        "\r\n",
        "I'll use the dataset provided by Dataquest and they've made a few modifications from the original dataset:\r\n",
        "\r\n",
        "1.   Sampled 50,000 data points from the full dataset, to ensure the code runs quickly in their hosted environment. \r\n",
        "2.   Dirtied the dataset a bit to more closely resemble what would be expect from a scraped dataset.\r\n",
        "\r\n",
        "All the information about this guided project can be found in this [mission.](https://app.dataquest.io/m/294/guided-project%3A-exploring-ebay-car-sales-data/1/introduction)"
      ]
    },
    {
      "cell_type": "markdown",
      "metadata": {
        "id": "kzPZqIqYW3zn"
      },
      "source": [
        "**Objective:** Clean the data and analyze the included used car listings."
      ]
    },
    {
      "cell_type": "markdown",
      "metadata": {
        "id": "VhhgGJvbZwtn"
      },
      "source": [
        "Data dictionary:\r\n",
        "<br><br>\r\n",
        "`dateCrawled` - When this ad was first crawled. All field-values are taken from this date. <br>\r\n",
        "`name` - Name of the car. <br>\r\n",
        "`seller` - Whether the seller is private or a dealer. <br>\r\n",
        "`offerType` - The type of listing. <br>\r\n",
        "`price` - The price on the ad to sell the car. <br>\r\n",
        "`abtest` - Whether the listing is included in an A/B test. <br>\r\n",
        "`vehicleType` - The vehicle Type. <br>\r\n",
        "`yearOfRegistration` - The year in which the car was first registered. <br>\r\n",
        "`gearbox` - The transmission type.<br>\r\n",
        "`powerPS` - The power of the car in PS.<br>\r\n",
        "`model` - The car model name.<br>\r\n",
        "`kilometer` - How many kilometers the car has driven.<br>\r\n",
        "`monthOfRegistration` - The month in which the car was first registered.<br>\r\n",
        "`fuelType` - What type of fuel the car uses.<br>\r\n",
        "`brand` - The brand of the car.<br>\r\n",
        "`notRepairedDamage` - If the car has a damage which is not yet repaired.<br>\r\n",
        "`dateCreated `- The date on which the eBay listing was created.<br>\r\n",
        "`nrOfPictures` - The number of pictures in the ad.<br>\r\n",
        "`postalCode` - The postal code for the location of the vehicle.<br>\r\n",
        "`lastSeenOnline` - When the crawler saw this ad last online.<br>"
      ]
    },
    {
      "cell_type": "code",
      "metadata": {
        "id": "PxZGm45NSJ3C"
      },
      "source": [
        "#Import pandas and numpy libraries\r\n",
        "import pandas as pd\r\n",
        "import numpy as np"
      ],
      "execution_count": 2,
      "outputs": []
    },
    {
      "cell_type": "code",
      "metadata": {
        "id": "IUIrfnpAbRXY",
        "colab": {
          "base_uri": "https://localhost:8080/"
        },
        "outputId": "394f090c-8416-4a19-a06f-40409fe9ee25"
      },
      "source": [
        "#Charge the dataset that is in my drive\r\n",
        "from google.colab import drive\r\n",
        "drive.mount('/content/drive')"
      ],
      "execution_count": 3,
      "outputs": [
        {
          "output_type": "stream",
          "text": [
            "Mounted at /content/drive\n"
          ],
          "name": "stdout"
        }
      ]
    },
    {
      "cell_type": "code",
      "metadata": {
        "id": "kOCMcZTWbRNg"
      },
      "source": [
        "#Read the dataset, I use encoding 'Latin 1' because without this had an error\r\n",
        "autos = pd.read_csv('/content/drive/MyDrive/Colab Notebooks/autos.csv', encoding='latin-1')"
      ],
      "execution_count": 4,
      "outputs": []
    },
    {
      "cell_type": "code",
      "metadata": {
        "colab": {
          "base_uri": "https://localhost:8080/",
          "height": 779
        },
        "id": "c-qsb7bxfqWI",
        "outputId": "5bbd753e-7f1c-4657-cd86-4d8a68497cbd"
      },
      "source": [
        "#See the ability to render the first few and last few values of any pandas object\r\n",
        "autos"
      ],
      "execution_count": 5,
      "outputs": [
        {
          "output_type": "execute_result",
          "data": {
            "text/html": [
              "<div>\n",
              "<style scoped>\n",
              "    .dataframe tbody tr th:only-of-type {\n",
              "        vertical-align: middle;\n",
              "    }\n",
              "\n",
              "    .dataframe tbody tr th {\n",
              "        vertical-align: top;\n",
              "    }\n",
              "\n",
              "    .dataframe thead th {\n",
              "        text-align: right;\n",
              "    }\n",
              "</style>\n",
              "<table border=\"1\" class=\"dataframe\">\n",
              "  <thead>\n",
              "    <tr style=\"text-align: right;\">\n",
              "      <th></th>\n",
              "      <th>dateCrawled</th>\n",
              "      <th>name</th>\n",
              "      <th>seller</th>\n",
              "      <th>offerType</th>\n",
              "      <th>price</th>\n",
              "      <th>abtest</th>\n",
              "      <th>vehicleType</th>\n",
              "      <th>yearOfRegistration</th>\n",
              "      <th>gearbox</th>\n",
              "      <th>powerPS</th>\n",
              "      <th>model</th>\n",
              "      <th>odometer</th>\n",
              "      <th>monthOfRegistration</th>\n",
              "      <th>fuelType</th>\n",
              "      <th>brand</th>\n",
              "      <th>notRepairedDamage</th>\n",
              "      <th>dateCreated</th>\n",
              "      <th>nrOfPictures</th>\n",
              "      <th>postalCode</th>\n",
              "      <th>lastSeen</th>\n",
              "    </tr>\n",
              "  </thead>\n",
              "  <tbody>\n",
              "    <tr>\n",
              "      <th>0</th>\n",
              "      <td>2016-03-26 17:47:46</td>\n",
              "      <td>Peugeot_807_160_NAVTECH_ON_BOARD</td>\n",
              "      <td>privat</td>\n",
              "      <td>Angebot</td>\n",
              "      <td>$5,000</td>\n",
              "      <td>control</td>\n",
              "      <td>bus</td>\n",
              "      <td>2004</td>\n",
              "      <td>manuell</td>\n",
              "      <td>158</td>\n",
              "      <td>andere</td>\n",
              "      <td>150,000km</td>\n",
              "      <td>3</td>\n",
              "      <td>lpg</td>\n",
              "      <td>peugeot</td>\n",
              "      <td>nein</td>\n",
              "      <td>2016-03-26 00:00:00</td>\n",
              "      <td>0</td>\n",
              "      <td>79588</td>\n",
              "      <td>2016-04-06 06:45:54</td>\n",
              "    </tr>\n",
              "    <tr>\n",
              "      <th>1</th>\n",
              "      <td>2016-04-04 13:38:56</td>\n",
              "      <td>BMW_740i_4_4_Liter_HAMANN_UMBAU_Mega_Optik</td>\n",
              "      <td>privat</td>\n",
              "      <td>Angebot</td>\n",
              "      <td>$8,500</td>\n",
              "      <td>control</td>\n",
              "      <td>limousine</td>\n",
              "      <td>1997</td>\n",
              "      <td>automatik</td>\n",
              "      <td>286</td>\n",
              "      <td>7er</td>\n",
              "      <td>150,000km</td>\n",
              "      <td>6</td>\n",
              "      <td>benzin</td>\n",
              "      <td>bmw</td>\n",
              "      <td>nein</td>\n",
              "      <td>2016-04-04 00:00:00</td>\n",
              "      <td>0</td>\n",
              "      <td>71034</td>\n",
              "      <td>2016-04-06 14:45:08</td>\n",
              "    </tr>\n",
              "    <tr>\n",
              "      <th>2</th>\n",
              "      <td>2016-03-26 18:57:24</td>\n",
              "      <td>Volkswagen_Golf_1.6_United</td>\n",
              "      <td>privat</td>\n",
              "      <td>Angebot</td>\n",
              "      <td>$8,990</td>\n",
              "      <td>test</td>\n",
              "      <td>limousine</td>\n",
              "      <td>2009</td>\n",
              "      <td>manuell</td>\n",
              "      <td>102</td>\n",
              "      <td>golf</td>\n",
              "      <td>70,000km</td>\n",
              "      <td>7</td>\n",
              "      <td>benzin</td>\n",
              "      <td>volkswagen</td>\n",
              "      <td>nein</td>\n",
              "      <td>2016-03-26 00:00:00</td>\n",
              "      <td>0</td>\n",
              "      <td>35394</td>\n",
              "      <td>2016-04-06 20:15:37</td>\n",
              "    </tr>\n",
              "    <tr>\n",
              "      <th>3</th>\n",
              "      <td>2016-03-12 16:58:10</td>\n",
              "      <td>Smart_smart_fortwo_coupe_softouch/F1/Klima/Pan...</td>\n",
              "      <td>privat</td>\n",
              "      <td>Angebot</td>\n",
              "      <td>$4,350</td>\n",
              "      <td>control</td>\n",
              "      <td>kleinwagen</td>\n",
              "      <td>2007</td>\n",
              "      <td>automatik</td>\n",
              "      <td>71</td>\n",
              "      <td>fortwo</td>\n",
              "      <td>70,000km</td>\n",
              "      <td>6</td>\n",
              "      <td>benzin</td>\n",
              "      <td>smart</td>\n",
              "      <td>nein</td>\n",
              "      <td>2016-03-12 00:00:00</td>\n",
              "      <td>0</td>\n",
              "      <td>33729</td>\n",
              "      <td>2016-03-15 03:16:28</td>\n",
              "    </tr>\n",
              "    <tr>\n",
              "      <th>4</th>\n",
              "      <td>2016-04-01 14:38:50</td>\n",
              "      <td>Ford_Focus_1_6_Benzin_TÃV_neu_ist_sehr_gepfle...</td>\n",
              "      <td>privat</td>\n",
              "      <td>Angebot</td>\n",
              "      <td>$1,350</td>\n",
              "      <td>test</td>\n",
              "      <td>kombi</td>\n",
              "      <td>2003</td>\n",
              "      <td>manuell</td>\n",
              "      <td>0</td>\n",
              "      <td>focus</td>\n",
              "      <td>150,000km</td>\n",
              "      <td>7</td>\n",
              "      <td>benzin</td>\n",
              "      <td>ford</td>\n",
              "      <td>nein</td>\n",
              "      <td>2016-04-01 00:00:00</td>\n",
              "      <td>0</td>\n",
              "      <td>39218</td>\n",
              "      <td>2016-04-01 14:38:50</td>\n",
              "    </tr>\n",
              "    <tr>\n",
              "      <th>...</th>\n",
              "      <td>...</td>\n",
              "      <td>...</td>\n",
              "      <td>...</td>\n",
              "      <td>...</td>\n",
              "      <td>...</td>\n",
              "      <td>...</td>\n",
              "      <td>...</td>\n",
              "      <td>...</td>\n",
              "      <td>...</td>\n",
              "      <td>...</td>\n",
              "      <td>...</td>\n",
              "      <td>...</td>\n",
              "      <td>...</td>\n",
              "      <td>...</td>\n",
              "      <td>...</td>\n",
              "      <td>...</td>\n",
              "      <td>...</td>\n",
              "      <td>...</td>\n",
              "      <td>...</td>\n",
              "      <td>...</td>\n",
              "    </tr>\n",
              "    <tr>\n",
              "      <th>49995</th>\n",
              "      <td>2016-03-27 14:38:19</td>\n",
              "      <td>Audi_Q5_3.0_TDI_qu._S_tr.__Navi__Panorama__Xenon</td>\n",
              "      <td>privat</td>\n",
              "      <td>Angebot</td>\n",
              "      <td>$24,900</td>\n",
              "      <td>control</td>\n",
              "      <td>limousine</td>\n",
              "      <td>2011</td>\n",
              "      <td>automatik</td>\n",
              "      <td>239</td>\n",
              "      <td>q5</td>\n",
              "      <td>100,000km</td>\n",
              "      <td>1</td>\n",
              "      <td>diesel</td>\n",
              "      <td>audi</td>\n",
              "      <td>nein</td>\n",
              "      <td>2016-03-27 00:00:00</td>\n",
              "      <td>0</td>\n",
              "      <td>82131</td>\n",
              "      <td>2016-04-01 13:47:40</td>\n",
              "    </tr>\n",
              "    <tr>\n",
              "      <th>49996</th>\n",
              "      <td>2016-03-28 10:50:25</td>\n",
              "      <td>Opel_Astra_F_Cabrio_Bertone_Edition___TÃV_neu...</td>\n",
              "      <td>privat</td>\n",
              "      <td>Angebot</td>\n",
              "      <td>$1,980</td>\n",
              "      <td>control</td>\n",
              "      <td>cabrio</td>\n",
              "      <td>1996</td>\n",
              "      <td>manuell</td>\n",
              "      <td>75</td>\n",
              "      <td>astra</td>\n",
              "      <td>150,000km</td>\n",
              "      <td>5</td>\n",
              "      <td>benzin</td>\n",
              "      <td>opel</td>\n",
              "      <td>nein</td>\n",
              "      <td>2016-03-28 00:00:00</td>\n",
              "      <td>0</td>\n",
              "      <td>44807</td>\n",
              "      <td>2016-04-02 14:18:02</td>\n",
              "    </tr>\n",
              "    <tr>\n",
              "      <th>49997</th>\n",
              "      <td>2016-04-02 14:44:48</td>\n",
              "      <td>Fiat_500_C_1.2_Dualogic_Lounge</td>\n",
              "      <td>privat</td>\n",
              "      <td>Angebot</td>\n",
              "      <td>$13,200</td>\n",
              "      <td>test</td>\n",
              "      <td>cabrio</td>\n",
              "      <td>2014</td>\n",
              "      <td>automatik</td>\n",
              "      <td>69</td>\n",
              "      <td>500</td>\n",
              "      <td>5,000km</td>\n",
              "      <td>11</td>\n",
              "      <td>benzin</td>\n",
              "      <td>fiat</td>\n",
              "      <td>nein</td>\n",
              "      <td>2016-04-02 00:00:00</td>\n",
              "      <td>0</td>\n",
              "      <td>73430</td>\n",
              "      <td>2016-04-04 11:47:27</td>\n",
              "    </tr>\n",
              "    <tr>\n",
              "      <th>49998</th>\n",
              "      <td>2016-03-08 19:25:42</td>\n",
              "      <td>Audi_A3_2.0_TDI_Sportback_Ambition</td>\n",
              "      <td>privat</td>\n",
              "      <td>Angebot</td>\n",
              "      <td>$22,900</td>\n",
              "      <td>control</td>\n",
              "      <td>kombi</td>\n",
              "      <td>2013</td>\n",
              "      <td>manuell</td>\n",
              "      <td>150</td>\n",
              "      <td>a3</td>\n",
              "      <td>40,000km</td>\n",
              "      <td>11</td>\n",
              "      <td>diesel</td>\n",
              "      <td>audi</td>\n",
              "      <td>nein</td>\n",
              "      <td>2016-03-08 00:00:00</td>\n",
              "      <td>0</td>\n",
              "      <td>35683</td>\n",
              "      <td>2016-04-05 16:45:07</td>\n",
              "    </tr>\n",
              "    <tr>\n",
              "      <th>49999</th>\n",
              "      <td>2016-03-14 00:42:12</td>\n",
              "      <td>Opel_Vectra_1.6_16V</td>\n",
              "      <td>privat</td>\n",
              "      <td>Angebot</td>\n",
              "      <td>$1,250</td>\n",
              "      <td>control</td>\n",
              "      <td>limousine</td>\n",
              "      <td>1996</td>\n",
              "      <td>manuell</td>\n",
              "      <td>101</td>\n",
              "      <td>vectra</td>\n",
              "      <td>150,000km</td>\n",
              "      <td>1</td>\n",
              "      <td>benzin</td>\n",
              "      <td>opel</td>\n",
              "      <td>nein</td>\n",
              "      <td>2016-03-13 00:00:00</td>\n",
              "      <td>0</td>\n",
              "      <td>45897</td>\n",
              "      <td>2016-04-06 21:18:48</td>\n",
              "    </tr>\n",
              "  </tbody>\n",
              "</table>\n",
              "<p>50000 rows × 20 columns</p>\n",
              "</div>"
            ],
            "text/plain": [
              "               dateCrawled  ...             lastSeen\n",
              "0      2016-03-26 17:47:46  ...  2016-04-06 06:45:54\n",
              "1      2016-04-04 13:38:56  ...  2016-04-06 14:45:08\n",
              "2      2016-03-26 18:57:24  ...  2016-04-06 20:15:37\n",
              "3      2016-03-12 16:58:10  ...  2016-03-15 03:16:28\n",
              "4      2016-04-01 14:38:50  ...  2016-04-01 14:38:50\n",
              "...                    ...  ...                  ...\n",
              "49995  2016-03-27 14:38:19  ...  2016-04-01 13:47:40\n",
              "49996  2016-03-28 10:50:25  ...  2016-04-02 14:18:02\n",
              "49997  2016-04-02 14:44:48  ...  2016-04-04 11:47:27\n",
              "49998  2016-03-08 19:25:42  ...  2016-04-05 16:45:07\n",
              "49999  2016-03-14 00:42:12  ...  2016-04-06 21:18:48\n",
              "\n",
              "[50000 rows x 20 columns]"
            ]
          },
          "metadata": {
            "tags": []
          },
          "execution_count": 5
        }
      ]
    },
    {
      "cell_type": "markdown",
      "metadata": {
        "id": "Znf2D-g72kD4"
      },
      "source": [
        "### **1. Cleaning column names:**"
      ]
    },
    {
      "cell_type": "code",
      "metadata": {
        "colab": {
          "base_uri": "https://localhost:8080/",
          "height": 853
        },
        "id": "WqDN1l3MgHhn",
        "outputId": "accdb2a0-21a0-4bf0-ce90-b43bed8330d8"
      },
      "source": [
        "#Methods to evaluate in initial stages the dataset\r\n",
        "autos.info()\r\n",
        "autos.head()"
      ],
      "execution_count": 6,
      "outputs": [
        {
          "output_type": "stream",
          "text": [
            "<class 'pandas.core.frame.DataFrame'>\n",
            "RangeIndex: 50000 entries, 0 to 49999\n",
            "Data columns (total 20 columns):\n",
            " #   Column               Non-Null Count  Dtype \n",
            "---  ------               --------------  ----- \n",
            " 0   dateCrawled          50000 non-null  object\n",
            " 1   name                 50000 non-null  object\n",
            " 2   seller               50000 non-null  object\n",
            " 3   offerType            50000 non-null  object\n",
            " 4   price                50000 non-null  object\n",
            " 5   abtest               50000 non-null  object\n",
            " 6   vehicleType          44905 non-null  object\n",
            " 7   yearOfRegistration   50000 non-null  int64 \n",
            " 8   gearbox              47320 non-null  object\n",
            " 9   powerPS              50000 non-null  int64 \n",
            " 10  model                47242 non-null  object\n",
            " 11  odometer             50000 non-null  object\n",
            " 12  monthOfRegistration  50000 non-null  int64 \n",
            " 13  fuelType             45518 non-null  object\n",
            " 14  brand                50000 non-null  object\n",
            " 15  notRepairedDamage    40171 non-null  object\n",
            " 16  dateCreated          50000 non-null  object\n",
            " 17  nrOfPictures         50000 non-null  int64 \n",
            " 18  postalCode           50000 non-null  int64 \n",
            " 19  lastSeen             50000 non-null  object\n",
            "dtypes: int64(5), object(15)\n",
            "memory usage: 7.6+ MB\n"
          ],
          "name": "stdout"
        },
        {
          "output_type": "execute_result",
          "data": {
            "text/html": [
              "<div>\n",
              "<style scoped>\n",
              "    .dataframe tbody tr th:only-of-type {\n",
              "        vertical-align: middle;\n",
              "    }\n",
              "\n",
              "    .dataframe tbody tr th {\n",
              "        vertical-align: top;\n",
              "    }\n",
              "\n",
              "    .dataframe thead th {\n",
              "        text-align: right;\n",
              "    }\n",
              "</style>\n",
              "<table border=\"1\" class=\"dataframe\">\n",
              "  <thead>\n",
              "    <tr style=\"text-align: right;\">\n",
              "      <th></th>\n",
              "      <th>dateCrawled</th>\n",
              "      <th>name</th>\n",
              "      <th>seller</th>\n",
              "      <th>offerType</th>\n",
              "      <th>price</th>\n",
              "      <th>abtest</th>\n",
              "      <th>vehicleType</th>\n",
              "      <th>yearOfRegistration</th>\n",
              "      <th>gearbox</th>\n",
              "      <th>powerPS</th>\n",
              "      <th>model</th>\n",
              "      <th>odometer</th>\n",
              "      <th>monthOfRegistration</th>\n",
              "      <th>fuelType</th>\n",
              "      <th>brand</th>\n",
              "      <th>notRepairedDamage</th>\n",
              "      <th>dateCreated</th>\n",
              "      <th>nrOfPictures</th>\n",
              "      <th>postalCode</th>\n",
              "      <th>lastSeen</th>\n",
              "    </tr>\n",
              "  </thead>\n",
              "  <tbody>\n",
              "    <tr>\n",
              "      <th>0</th>\n",
              "      <td>2016-03-26 17:47:46</td>\n",
              "      <td>Peugeot_807_160_NAVTECH_ON_BOARD</td>\n",
              "      <td>privat</td>\n",
              "      <td>Angebot</td>\n",
              "      <td>$5,000</td>\n",
              "      <td>control</td>\n",
              "      <td>bus</td>\n",
              "      <td>2004</td>\n",
              "      <td>manuell</td>\n",
              "      <td>158</td>\n",
              "      <td>andere</td>\n",
              "      <td>150,000km</td>\n",
              "      <td>3</td>\n",
              "      <td>lpg</td>\n",
              "      <td>peugeot</td>\n",
              "      <td>nein</td>\n",
              "      <td>2016-03-26 00:00:00</td>\n",
              "      <td>0</td>\n",
              "      <td>79588</td>\n",
              "      <td>2016-04-06 06:45:54</td>\n",
              "    </tr>\n",
              "    <tr>\n",
              "      <th>1</th>\n",
              "      <td>2016-04-04 13:38:56</td>\n",
              "      <td>BMW_740i_4_4_Liter_HAMANN_UMBAU_Mega_Optik</td>\n",
              "      <td>privat</td>\n",
              "      <td>Angebot</td>\n",
              "      <td>$8,500</td>\n",
              "      <td>control</td>\n",
              "      <td>limousine</td>\n",
              "      <td>1997</td>\n",
              "      <td>automatik</td>\n",
              "      <td>286</td>\n",
              "      <td>7er</td>\n",
              "      <td>150,000km</td>\n",
              "      <td>6</td>\n",
              "      <td>benzin</td>\n",
              "      <td>bmw</td>\n",
              "      <td>nein</td>\n",
              "      <td>2016-04-04 00:00:00</td>\n",
              "      <td>0</td>\n",
              "      <td>71034</td>\n",
              "      <td>2016-04-06 14:45:08</td>\n",
              "    </tr>\n",
              "    <tr>\n",
              "      <th>2</th>\n",
              "      <td>2016-03-26 18:57:24</td>\n",
              "      <td>Volkswagen_Golf_1.6_United</td>\n",
              "      <td>privat</td>\n",
              "      <td>Angebot</td>\n",
              "      <td>$8,990</td>\n",
              "      <td>test</td>\n",
              "      <td>limousine</td>\n",
              "      <td>2009</td>\n",
              "      <td>manuell</td>\n",
              "      <td>102</td>\n",
              "      <td>golf</td>\n",
              "      <td>70,000km</td>\n",
              "      <td>7</td>\n",
              "      <td>benzin</td>\n",
              "      <td>volkswagen</td>\n",
              "      <td>nein</td>\n",
              "      <td>2016-03-26 00:00:00</td>\n",
              "      <td>0</td>\n",
              "      <td>35394</td>\n",
              "      <td>2016-04-06 20:15:37</td>\n",
              "    </tr>\n",
              "    <tr>\n",
              "      <th>3</th>\n",
              "      <td>2016-03-12 16:58:10</td>\n",
              "      <td>Smart_smart_fortwo_coupe_softouch/F1/Klima/Pan...</td>\n",
              "      <td>privat</td>\n",
              "      <td>Angebot</td>\n",
              "      <td>$4,350</td>\n",
              "      <td>control</td>\n",
              "      <td>kleinwagen</td>\n",
              "      <td>2007</td>\n",
              "      <td>automatik</td>\n",
              "      <td>71</td>\n",
              "      <td>fortwo</td>\n",
              "      <td>70,000km</td>\n",
              "      <td>6</td>\n",
              "      <td>benzin</td>\n",
              "      <td>smart</td>\n",
              "      <td>nein</td>\n",
              "      <td>2016-03-12 00:00:00</td>\n",
              "      <td>0</td>\n",
              "      <td>33729</td>\n",
              "      <td>2016-03-15 03:16:28</td>\n",
              "    </tr>\n",
              "    <tr>\n",
              "      <th>4</th>\n",
              "      <td>2016-04-01 14:38:50</td>\n",
              "      <td>Ford_Focus_1_6_Benzin_TÃV_neu_ist_sehr_gepfle...</td>\n",
              "      <td>privat</td>\n",
              "      <td>Angebot</td>\n",
              "      <td>$1,350</td>\n",
              "      <td>test</td>\n",
              "      <td>kombi</td>\n",
              "      <td>2003</td>\n",
              "      <td>manuell</td>\n",
              "      <td>0</td>\n",
              "      <td>focus</td>\n",
              "      <td>150,000km</td>\n",
              "      <td>7</td>\n",
              "      <td>benzin</td>\n",
              "      <td>ford</td>\n",
              "      <td>nein</td>\n",
              "      <td>2016-04-01 00:00:00</td>\n",
              "      <td>0</td>\n",
              "      <td>39218</td>\n",
              "      <td>2016-04-01 14:38:50</td>\n",
              "    </tr>\n",
              "  </tbody>\n",
              "</table>\n",
              "</div>"
            ],
            "text/plain": [
              "           dateCrawled  ...             lastSeen\n",
              "0  2016-03-26 17:47:46  ...  2016-04-06 06:45:54\n",
              "1  2016-04-04 13:38:56  ...  2016-04-06 14:45:08\n",
              "2  2016-03-26 18:57:24  ...  2016-04-06 20:15:37\n",
              "3  2016-03-12 16:58:10  ...  2016-03-15 03:16:28\n",
              "4  2016-04-01 14:38:50  ...  2016-04-01 14:38:50\n",
              "\n",
              "[5 rows x 20 columns]"
            ]
          },
          "metadata": {
            "tags": []
          },
          "execution_count": 6
        }
      ]
    },
    {
      "cell_type": "markdown",
      "metadata": {
        "id": "IJmsVVAjiQ5X"
      },
      "source": [
        "**Observations**\r\n",
        "<br>\r\n",
        "This dataset has 20 columns and 50.000 rows.<br>\r\n",
        "》5 columns are stored as integers, the rest of the columns are stored as strings.\r\n",
        "<br>\r\n",
        "》5 columns present null values: vehicle type, gearbox, model, fuel type and not repared damage. But these null values don't represent more than 20% of the data available.\r\n",
        "<br>\r\n",
        "》The column names use camelcase."
      ]
    },
    {
      "cell_type": "code",
      "metadata": {
        "id": "J8Bp9lp7ko_4",
        "colab": {
          "base_uri": "https://localhost:8080/"
        },
        "outputId": "2b1d1bab-6c63-4039-b641-331a6950cbf1"
      },
      "source": [
        "print(autos.columns)     "
      ],
      "execution_count": 7,
      "outputs": [
        {
          "output_type": "stream",
          "text": [
            "Index(['dateCrawled', 'name', 'seller', 'offerType', 'price', 'abtest',\n",
            "       'vehicleType', 'yearOfRegistration', 'gearbox', 'powerPS', 'model',\n",
            "       'odometer', 'monthOfRegistration', 'fuelType', 'brand',\n",
            "       'notRepairedDamage', 'dateCreated', 'nrOfPictures', 'postalCode',\n",
            "       'lastSeen'],\n",
            "      dtype='object')\n"
          ],
          "name": "stdout"
        }
      ]
    },
    {
      "cell_type": "markdown",
      "metadata": {
        "id": "971zMYj-XDyn"
      },
      "source": [
        "Some changes will be made:\r\n",
        "\r\n",
        "1.   Convert column names from camelcase to snakecase.\r\n",
        "2.   Change a few column names.\r\n",
        "\r\n",
        "These changes will help to a better understand of the information from the dataset."
      ]
    },
    {
      "cell_type": "code",
      "metadata": {
        "id": "4ZAnqGv3WFJv"
      },
      "source": [
        "autos.columns = ['date_Crawled', 'name', 'seller', 'offer_Type', 'price', 'abtest',\r\n",
        "       'vehicle_Type', 'registration_year', 'gearbox', 'power_PS', 'model',\r\n",
        "       'odometer', 'registration_month', 'fuel_Type', 'brand',\r\n",
        "       'unrepaired_damage', 'ad_created', 'nr_Pictures', 'postal_Code',\r\n",
        "       'last_Seen']\r\n",
        "\r\n",
        "#Following function to convert uppercase letters to lowercase\r\n",
        "def clean_col(col):\r\n",
        "  col = col.lower()\r\n",
        "  return col\r\n",
        "\r\n",
        "new_columns = []\r\n",
        "for c in autos.columns:\r\n",
        "    clean_c = clean_col(c)\r\n",
        "    new_columns.append(clean_c)\r\n",
        "\r\n",
        "autos.columns = new_columns"
      ],
      "execution_count": 8,
      "outputs": []
    },
    {
      "cell_type": "code",
      "metadata": {
        "colab": {
          "base_uri": "https://localhost:8080/",
          "height": 394
        },
        "id": "4ZLvZppHZQB7",
        "outputId": "e65f1e53-333c-4173-abfb-17a21e15262a"
      },
      "source": [
        "autos.head()"
      ],
      "execution_count": 9,
      "outputs": [
        {
          "output_type": "execute_result",
          "data": {
            "text/html": [
              "<div>\n",
              "<style scoped>\n",
              "    .dataframe tbody tr th:only-of-type {\n",
              "        vertical-align: middle;\n",
              "    }\n",
              "\n",
              "    .dataframe tbody tr th {\n",
              "        vertical-align: top;\n",
              "    }\n",
              "\n",
              "    .dataframe thead th {\n",
              "        text-align: right;\n",
              "    }\n",
              "</style>\n",
              "<table border=\"1\" class=\"dataframe\">\n",
              "  <thead>\n",
              "    <tr style=\"text-align: right;\">\n",
              "      <th></th>\n",
              "      <th>date_crawled</th>\n",
              "      <th>name</th>\n",
              "      <th>seller</th>\n",
              "      <th>offer_type</th>\n",
              "      <th>price</th>\n",
              "      <th>abtest</th>\n",
              "      <th>vehicle_type</th>\n",
              "      <th>registration_year</th>\n",
              "      <th>gearbox</th>\n",
              "      <th>power_ps</th>\n",
              "      <th>model</th>\n",
              "      <th>odometer</th>\n",
              "      <th>registration_month</th>\n",
              "      <th>fuel_type</th>\n",
              "      <th>brand</th>\n",
              "      <th>unrepaired_damage</th>\n",
              "      <th>ad_created</th>\n",
              "      <th>nr_pictures</th>\n",
              "      <th>postal_code</th>\n",
              "      <th>last_seen</th>\n",
              "    </tr>\n",
              "  </thead>\n",
              "  <tbody>\n",
              "    <tr>\n",
              "      <th>0</th>\n",
              "      <td>2016-03-26 17:47:46</td>\n",
              "      <td>Peugeot_807_160_NAVTECH_ON_BOARD</td>\n",
              "      <td>privat</td>\n",
              "      <td>Angebot</td>\n",
              "      <td>$5,000</td>\n",
              "      <td>control</td>\n",
              "      <td>bus</td>\n",
              "      <td>2004</td>\n",
              "      <td>manuell</td>\n",
              "      <td>158</td>\n",
              "      <td>andere</td>\n",
              "      <td>150,000km</td>\n",
              "      <td>3</td>\n",
              "      <td>lpg</td>\n",
              "      <td>peugeot</td>\n",
              "      <td>nein</td>\n",
              "      <td>2016-03-26 00:00:00</td>\n",
              "      <td>0</td>\n",
              "      <td>79588</td>\n",
              "      <td>2016-04-06 06:45:54</td>\n",
              "    </tr>\n",
              "    <tr>\n",
              "      <th>1</th>\n",
              "      <td>2016-04-04 13:38:56</td>\n",
              "      <td>BMW_740i_4_4_Liter_HAMANN_UMBAU_Mega_Optik</td>\n",
              "      <td>privat</td>\n",
              "      <td>Angebot</td>\n",
              "      <td>$8,500</td>\n",
              "      <td>control</td>\n",
              "      <td>limousine</td>\n",
              "      <td>1997</td>\n",
              "      <td>automatik</td>\n",
              "      <td>286</td>\n",
              "      <td>7er</td>\n",
              "      <td>150,000km</td>\n",
              "      <td>6</td>\n",
              "      <td>benzin</td>\n",
              "      <td>bmw</td>\n",
              "      <td>nein</td>\n",
              "      <td>2016-04-04 00:00:00</td>\n",
              "      <td>0</td>\n",
              "      <td>71034</td>\n",
              "      <td>2016-04-06 14:45:08</td>\n",
              "    </tr>\n",
              "    <tr>\n",
              "      <th>2</th>\n",
              "      <td>2016-03-26 18:57:24</td>\n",
              "      <td>Volkswagen_Golf_1.6_United</td>\n",
              "      <td>privat</td>\n",
              "      <td>Angebot</td>\n",
              "      <td>$8,990</td>\n",
              "      <td>test</td>\n",
              "      <td>limousine</td>\n",
              "      <td>2009</td>\n",
              "      <td>manuell</td>\n",
              "      <td>102</td>\n",
              "      <td>golf</td>\n",
              "      <td>70,000km</td>\n",
              "      <td>7</td>\n",
              "      <td>benzin</td>\n",
              "      <td>volkswagen</td>\n",
              "      <td>nein</td>\n",
              "      <td>2016-03-26 00:00:00</td>\n",
              "      <td>0</td>\n",
              "      <td>35394</td>\n",
              "      <td>2016-04-06 20:15:37</td>\n",
              "    </tr>\n",
              "    <tr>\n",
              "      <th>3</th>\n",
              "      <td>2016-03-12 16:58:10</td>\n",
              "      <td>Smart_smart_fortwo_coupe_softouch/F1/Klima/Pan...</td>\n",
              "      <td>privat</td>\n",
              "      <td>Angebot</td>\n",
              "      <td>$4,350</td>\n",
              "      <td>control</td>\n",
              "      <td>kleinwagen</td>\n",
              "      <td>2007</td>\n",
              "      <td>automatik</td>\n",
              "      <td>71</td>\n",
              "      <td>fortwo</td>\n",
              "      <td>70,000km</td>\n",
              "      <td>6</td>\n",
              "      <td>benzin</td>\n",
              "      <td>smart</td>\n",
              "      <td>nein</td>\n",
              "      <td>2016-03-12 00:00:00</td>\n",
              "      <td>0</td>\n",
              "      <td>33729</td>\n",
              "      <td>2016-03-15 03:16:28</td>\n",
              "    </tr>\n",
              "    <tr>\n",
              "      <th>4</th>\n",
              "      <td>2016-04-01 14:38:50</td>\n",
              "      <td>Ford_Focus_1_6_Benzin_TÃV_neu_ist_sehr_gepfle...</td>\n",
              "      <td>privat</td>\n",
              "      <td>Angebot</td>\n",
              "      <td>$1,350</td>\n",
              "      <td>test</td>\n",
              "      <td>kombi</td>\n",
              "      <td>2003</td>\n",
              "      <td>manuell</td>\n",
              "      <td>0</td>\n",
              "      <td>focus</td>\n",
              "      <td>150,000km</td>\n",
              "      <td>7</td>\n",
              "      <td>benzin</td>\n",
              "      <td>ford</td>\n",
              "      <td>nein</td>\n",
              "      <td>2016-04-01 00:00:00</td>\n",
              "      <td>0</td>\n",
              "      <td>39218</td>\n",
              "      <td>2016-04-01 14:38:50</td>\n",
              "    </tr>\n",
              "  </tbody>\n",
              "</table>\n",
              "</div>"
            ],
            "text/plain": [
              "          date_crawled  ...            last_seen\n",
              "0  2016-03-26 17:47:46  ...  2016-04-06 06:45:54\n",
              "1  2016-04-04 13:38:56  ...  2016-04-06 14:45:08\n",
              "2  2016-03-26 18:57:24  ...  2016-04-06 20:15:37\n",
              "3  2016-03-12 16:58:10  ...  2016-03-15 03:16:28\n",
              "4  2016-04-01 14:38:50  ...  2016-04-01 14:38:50\n",
              "\n",
              "[5 rows x 20 columns]"
            ]
          },
          "metadata": {
            "tags": []
          },
          "execution_count": 9
        }
      ]
    },
    {
      "cell_type": "markdown",
      "metadata": {
        "id": "NKtsFv7d25fm"
      },
      "source": [
        "### **2. Initial exploration and cleaning:**"
      ]
    },
    {
      "cell_type": "code",
      "metadata": {
        "id": "Wd7i4J7zdiqg",
        "colab": {
          "base_uri": "https://localhost:8080/",
          "height": 444
        },
        "outputId": "962d1d64-ec86-41b3-dbae-64aa19035728"
      },
      "source": [
        "#  to look at descriptive statistics for all columns\r\n",
        "autos.describe(include='all')"
      ],
      "execution_count": 10,
      "outputs": [
        {
          "output_type": "execute_result",
          "data": {
            "text/html": [
              "<div>\n",
              "<style scoped>\n",
              "    .dataframe tbody tr th:only-of-type {\n",
              "        vertical-align: middle;\n",
              "    }\n",
              "\n",
              "    .dataframe tbody tr th {\n",
              "        vertical-align: top;\n",
              "    }\n",
              "\n",
              "    .dataframe thead th {\n",
              "        text-align: right;\n",
              "    }\n",
              "</style>\n",
              "<table border=\"1\" class=\"dataframe\">\n",
              "  <thead>\n",
              "    <tr style=\"text-align: right;\">\n",
              "      <th></th>\n",
              "      <th>date_crawled</th>\n",
              "      <th>name</th>\n",
              "      <th>seller</th>\n",
              "      <th>offer_type</th>\n",
              "      <th>price</th>\n",
              "      <th>abtest</th>\n",
              "      <th>vehicle_type</th>\n",
              "      <th>registration_year</th>\n",
              "      <th>gearbox</th>\n",
              "      <th>power_ps</th>\n",
              "      <th>model</th>\n",
              "      <th>odometer</th>\n",
              "      <th>registration_month</th>\n",
              "      <th>fuel_type</th>\n",
              "      <th>brand</th>\n",
              "      <th>unrepaired_damage</th>\n",
              "      <th>ad_created</th>\n",
              "      <th>nr_pictures</th>\n",
              "      <th>postal_code</th>\n",
              "      <th>last_seen</th>\n",
              "    </tr>\n",
              "  </thead>\n",
              "  <tbody>\n",
              "    <tr>\n",
              "      <th>count</th>\n",
              "      <td>50000</td>\n",
              "      <td>50000</td>\n",
              "      <td>50000</td>\n",
              "      <td>50000</td>\n",
              "      <td>50000</td>\n",
              "      <td>50000</td>\n",
              "      <td>44905</td>\n",
              "      <td>50000.000000</td>\n",
              "      <td>47320</td>\n",
              "      <td>50000.000000</td>\n",
              "      <td>47242</td>\n",
              "      <td>50000</td>\n",
              "      <td>50000.000000</td>\n",
              "      <td>45518</td>\n",
              "      <td>50000</td>\n",
              "      <td>40171</td>\n",
              "      <td>50000</td>\n",
              "      <td>50000.0</td>\n",
              "      <td>50000.000000</td>\n",
              "      <td>50000</td>\n",
              "    </tr>\n",
              "    <tr>\n",
              "      <th>unique</th>\n",
              "      <td>48213</td>\n",
              "      <td>38754</td>\n",
              "      <td>2</td>\n",
              "      <td>2</td>\n",
              "      <td>2357</td>\n",
              "      <td>2</td>\n",
              "      <td>8</td>\n",
              "      <td>NaN</td>\n",
              "      <td>2</td>\n",
              "      <td>NaN</td>\n",
              "      <td>245</td>\n",
              "      <td>13</td>\n",
              "      <td>NaN</td>\n",
              "      <td>7</td>\n",
              "      <td>40</td>\n",
              "      <td>2</td>\n",
              "      <td>76</td>\n",
              "      <td>NaN</td>\n",
              "      <td>NaN</td>\n",
              "      <td>39481</td>\n",
              "    </tr>\n",
              "    <tr>\n",
              "      <th>top</th>\n",
              "      <td>2016-03-27 22:55:05</td>\n",
              "      <td>Ford_Fiesta</td>\n",
              "      <td>privat</td>\n",
              "      <td>Angebot</td>\n",
              "      <td>$0</td>\n",
              "      <td>test</td>\n",
              "      <td>limousine</td>\n",
              "      <td>NaN</td>\n",
              "      <td>manuell</td>\n",
              "      <td>NaN</td>\n",
              "      <td>golf</td>\n",
              "      <td>150,000km</td>\n",
              "      <td>NaN</td>\n",
              "      <td>benzin</td>\n",
              "      <td>volkswagen</td>\n",
              "      <td>nein</td>\n",
              "      <td>2016-04-03 00:00:00</td>\n",
              "      <td>NaN</td>\n",
              "      <td>NaN</td>\n",
              "      <td>2016-04-07 06:17:27</td>\n",
              "    </tr>\n",
              "    <tr>\n",
              "      <th>freq</th>\n",
              "      <td>3</td>\n",
              "      <td>78</td>\n",
              "      <td>49999</td>\n",
              "      <td>49999</td>\n",
              "      <td>1421</td>\n",
              "      <td>25756</td>\n",
              "      <td>12859</td>\n",
              "      <td>NaN</td>\n",
              "      <td>36993</td>\n",
              "      <td>NaN</td>\n",
              "      <td>4024</td>\n",
              "      <td>32424</td>\n",
              "      <td>NaN</td>\n",
              "      <td>30107</td>\n",
              "      <td>10687</td>\n",
              "      <td>35232</td>\n",
              "      <td>1946</td>\n",
              "      <td>NaN</td>\n",
              "      <td>NaN</td>\n",
              "      <td>8</td>\n",
              "    </tr>\n",
              "    <tr>\n",
              "      <th>mean</th>\n",
              "      <td>NaN</td>\n",
              "      <td>NaN</td>\n",
              "      <td>NaN</td>\n",
              "      <td>NaN</td>\n",
              "      <td>NaN</td>\n",
              "      <td>NaN</td>\n",
              "      <td>NaN</td>\n",
              "      <td>2005.073280</td>\n",
              "      <td>NaN</td>\n",
              "      <td>116.355920</td>\n",
              "      <td>NaN</td>\n",
              "      <td>NaN</td>\n",
              "      <td>5.723360</td>\n",
              "      <td>NaN</td>\n",
              "      <td>NaN</td>\n",
              "      <td>NaN</td>\n",
              "      <td>NaN</td>\n",
              "      <td>0.0</td>\n",
              "      <td>50813.627300</td>\n",
              "      <td>NaN</td>\n",
              "    </tr>\n",
              "    <tr>\n",
              "      <th>std</th>\n",
              "      <td>NaN</td>\n",
              "      <td>NaN</td>\n",
              "      <td>NaN</td>\n",
              "      <td>NaN</td>\n",
              "      <td>NaN</td>\n",
              "      <td>NaN</td>\n",
              "      <td>NaN</td>\n",
              "      <td>105.712813</td>\n",
              "      <td>NaN</td>\n",
              "      <td>209.216627</td>\n",
              "      <td>NaN</td>\n",
              "      <td>NaN</td>\n",
              "      <td>3.711984</td>\n",
              "      <td>NaN</td>\n",
              "      <td>NaN</td>\n",
              "      <td>NaN</td>\n",
              "      <td>NaN</td>\n",
              "      <td>0.0</td>\n",
              "      <td>25779.747957</td>\n",
              "      <td>NaN</td>\n",
              "    </tr>\n",
              "    <tr>\n",
              "      <th>min</th>\n",
              "      <td>NaN</td>\n",
              "      <td>NaN</td>\n",
              "      <td>NaN</td>\n",
              "      <td>NaN</td>\n",
              "      <td>NaN</td>\n",
              "      <td>NaN</td>\n",
              "      <td>NaN</td>\n",
              "      <td>1000.000000</td>\n",
              "      <td>NaN</td>\n",
              "      <td>0.000000</td>\n",
              "      <td>NaN</td>\n",
              "      <td>NaN</td>\n",
              "      <td>0.000000</td>\n",
              "      <td>NaN</td>\n",
              "      <td>NaN</td>\n",
              "      <td>NaN</td>\n",
              "      <td>NaN</td>\n",
              "      <td>0.0</td>\n",
              "      <td>1067.000000</td>\n",
              "      <td>NaN</td>\n",
              "    </tr>\n",
              "    <tr>\n",
              "      <th>25%</th>\n",
              "      <td>NaN</td>\n",
              "      <td>NaN</td>\n",
              "      <td>NaN</td>\n",
              "      <td>NaN</td>\n",
              "      <td>NaN</td>\n",
              "      <td>NaN</td>\n",
              "      <td>NaN</td>\n",
              "      <td>1999.000000</td>\n",
              "      <td>NaN</td>\n",
              "      <td>70.000000</td>\n",
              "      <td>NaN</td>\n",
              "      <td>NaN</td>\n",
              "      <td>3.000000</td>\n",
              "      <td>NaN</td>\n",
              "      <td>NaN</td>\n",
              "      <td>NaN</td>\n",
              "      <td>NaN</td>\n",
              "      <td>0.0</td>\n",
              "      <td>30451.000000</td>\n",
              "      <td>NaN</td>\n",
              "    </tr>\n",
              "    <tr>\n",
              "      <th>50%</th>\n",
              "      <td>NaN</td>\n",
              "      <td>NaN</td>\n",
              "      <td>NaN</td>\n",
              "      <td>NaN</td>\n",
              "      <td>NaN</td>\n",
              "      <td>NaN</td>\n",
              "      <td>NaN</td>\n",
              "      <td>2003.000000</td>\n",
              "      <td>NaN</td>\n",
              "      <td>105.000000</td>\n",
              "      <td>NaN</td>\n",
              "      <td>NaN</td>\n",
              "      <td>6.000000</td>\n",
              "      <td>NaN</td>\n",
              "      <td>NaN</td>\n",
              "      <td>NaN</td>\n",
              "      <td>NaN</td>\n",
              "      <td>0.0</td>\n",
              "      <td>49577.000000</td>\n",
              "      <td>NaN</td>\n",
              "    </tr>\n",
              "    <tr>\n",
              "      <th>75%</th>\n",
              "      <td>NaN</td>\n",
              "      <td>NaN</td>\n",
              "      <td>NaN</td>\n",
              "      <td>NaN</td>\n",
              "      <td>NaN</td>\n",
              "      <td>NaN</td>\n",
              "      <td>NaN</td>\n",
              "      <td>2008.000000</td>\n",
              "      <td>NaN</td>\n",
              "      <td>150.000000</td>\n",
              "      <td>NaN</td>\n",
              "      <td>NaN</td>\n",
              "      <td>9.000000</td>\n",
              "      <td>NaN</td>\n",
              "      <td>NaN</td>\n",
              "      <td>NaN</td>\n",
              "      <td>NaN</td>\n",
              "      <td>0.0</td>\n",
              "      <td>71540.000000</td>\n",
              "      <td>NaN</td>\n",
              "    </tr>\n",
              "    <tr>\n",
              "      <th>max</th>\n",
              "      <td>NaN</td>\n",
              "      <td>NaN</td>\n",
              "      <td>NaN</td>\n",
              "      <td>NaN</td>\n",
              "      <td>NaN</td>\n",
              "      <td>NaN</td>\n",
              "      <td>NaN</td>\n",
              "      <td>9999.000000</td>\n",
              "      <td>NaN</td>\n",
              "      <td>17700.000000</td>\n",
              "      <td>NaN</td>\n",
              "      <td>NaN</td>\n",
              "      <td>12.000000</td>\n",
              "      <td>NaN</td>\n",
              "      <td>NaN</td>\n",
              "      <td>NaN</td>\n",
              "      <td>NaN</td>\n",
              "      <td>0.0</td>\n",
              "      <td>99998.000000</td>\n",
              "      <td>NaN</td>\n",
              "    </tr>\n",
              "  </tbody>\n",
              "</table>\n",
              "</div>"
            ],
            "text/plain": [
              "               date_crawled         name  ...   postal_code            last_seen\n",
              "count                 50000        50000  ...  50000.000000                50000\n",
              "unique                48213        38754  ...           NaN                39481\n",
              "top     2016-03-27 22:55:05  Ford_Fiesta  ...           NaN  2016-04-07 06:17:27\n",
              "freq                      3           78  ...           NaN                    8\n",
              "mean                    NaN          NaN  ...  50813.627300                  NaN\n",
              "std                     NaN          NaN  ...  25779.747957                  NaN\n",
              "min                     NaN          NaN  ...   1067.000000                  NaN\n",
              "25%                     NaN          NaN  ...  30451.000000                  NaN\n",
              "50%                     NaN          NaN  ...  49577.000000                  NaN\n",
              "75%                     NaN          NaN  ...  71540.000000                  NaN\n",
              "max                     NaN          NaN  ...  99998.000000                  NaN\n",
              "\n",
              "[11 rows x 20 columns]"
            ]
          },
          "metadata": {
            "tags": []
          },
          "execution_count": 10
        }
      ]
    },
    {
      "cell_type": "markdown",
      "metadata": {
        "id": "1hAi2eRmdi7u"
      },
      "source": [
        "**Observations**<br>\r\n",
        "》`seller`, `offer_type`, `abtest`, `gearbox` and `unrepaired_damage`, are columns that have two unique values and are candidates to be dropped.\r\n",
        "<br>\r\n",
        "》`registration_year`, is a column that needs more investigation because its max value is 9999 a bit strange.\r\n",
        "<br>\r\n",
        "》`price` and `odometer` are examples of numeric data stored as text and needs to be cleaned."
      ]
    },
    {
      "cell_type": "code",
      "metadata": {
        "colab": {
          "base_uri": "https://localhost:8080/"
        },
        "id": "H8kNyEZdHvbb",
        "outputId": "2ecfb3e6-b2e0-43c9-ccd6-2db1de63dc65"
      },
      "source": [
        "#corrections for column odometer: remove non numeric characters ('km' and ','), convert values to numeric, rename column\r\n",
        "autos[\"odometer\"] = autos[\"odometer\"].str.replace('km','')\r\n",
        "autos[\"odometer\"] = autos[\"odometer\"].str.replace(',','')\r\n",
        "autos[\"odometer\"] = autos[\"odometer\"].astype(int)\r\n",
        "autos.rename({\"odometer\": \"odometer_km\"}, axis = 1, inplace = True)\r\n",
        "autos[\"odometer_km\"].head()"
      ],
      "execution_count": 11,
      "outputs": [
        {
          "output_type": "execute_result",
          "data": {
            "text/plain": [
              "0    150000\n",
              "1    150000\n",
              "2     70000\n",
              "3     70000\n",
              "4    150000\n",
              "Name: odometer_km, dtype: int64"
            ]
          },
          "metadata": {
            "tags": []
          },
          "execution_count": 11
        }
      ]
    },
    {
      "cell_type": "code",
      "metadata": {
        "colab": {
          "base_uri": "https://localhost:8080/"
        },
        "id": "Yeq59mgVJ0R0",
        "outputId": "5588510c-4c49-48a9-f4ee-45beb84534c8"
      },
      "source": [
        "#corrections for column price: remove non numeric characters ('$' and ','), convert values to numeric\r\n",
        "autos[\"price\"] = autos[\"price\"].str.replace('$','')\r\n",
        "autos[\"price\"] = autos[\"price\"].str.replace(',','')\r\n",
        "autos[\"price\"] = autos[\"price\"].astype(int)\r\n",
        "autos[\"price\"].head()"
      ],
      "execution_count": 12,
      "outputs": [
        {
          "output_type": "execute_result",
          "data": {
            "text/plain": [
              "0    5000\n",
              "1    8500\n",
              "2    8990\n",
              "3    4350\n",
              "4    1350\n",
              "Name: price, dtype: int64"
            ]
          },
          "metadata": {
            "tags": []
          },
          "execution_count": 12
        }
      ]
    },
    {
      "cell_type": "markdown",
      "metadata": {
        "id": "50-UTqY83Hf-"
      },
      "source": [
        "### **3. Exploring the odometer and price columns:**"
      ]
    },
    {
      "cell_type": "markdown",
      "metadata": {
        "id": "EhdxTs2Fp5P_"
      },
      "source": [
        "Now I'm going to use some techniques to explore the data in these two columns:"
      ]
    },
    {
      "cell_type": "code",
      "metadata": {
        "colab": {
          "base_uri": "https://localhost:8080/"
        },
        "id": "5o0BfWsaK4XS",
        "outputId": "fbf26618-9787-4b96-ce07-c5340b8c5ca4"
      },
      "source": [
        "#create a variable to store only each column and explore them using some techniques\r\n",
        "odometer_km_c = autos[\"odometer_km\"]\r\n",
        "price_c = autos[\"price\"]\r\n",
        "\r\n",
        "#how many unique values has each column\r\n",
        "print('Unique values odometer_km:', odometer_km_c.unique().shape)\r\n",
        "print('\\n')\r\n",
        "print('Unique values price:', price_c.unique().shape)\r\n",
        "print('\\n')\r\n",
        "#some statistical data from each column\r\n",
        "print('Statistics odometer_km:', odometer_km_c.describe())\r\n",
        "print('\\n')\r\n",
        "print('Statistic price:', price_c.describe())"
      ],
      "execution_count": 13,
      "outputs": [
        {
          "output_type": "stream",
          "text": [
            "Unique values odometer_km: (13,)\n",
            "\n",
            "\n",
            "Unique values price: (2357,)\n",
            "\n",
            "\n",
            "Statistics odometer_km: count     50000.000000\n",
            "mean     125732.700000\n",
            "std       40042.211706\n",
            "min        5000.000000\n",
            "25%      125000.000000\n",
            "50%      150000.000000\n",
            "75%      150000.000000\n",
            "max      150000.000000\n",
            "Name: odometer_km, dtype: float64\n",
            "\n",
            "\n",
            "Statistic price: count    5.000000e+04\n",
            "mean     9.840044e+03\n",
            "std      4.811044e+05\n",
            "min      0.000000e+00\n",
            "25%      1.100000e+03\n",
            "50%      2.950000e+03\n",
            "75%      7.200000e+03\n",
            "max      1.000000e+08\n",
            "Name: price, dtype: float64\n"
          ],
          "name": "stdout"
        }
      ]
    },
    {
      "cell_type": "markdown",
      "metadata": {
        "id": "9ke_9SnL7G3O"
      },
      "source": [
        "》Here is interesting that the unique odometer values are only 13, in this moment i am not very sure about the reason for that. Maybe is because the cars are organised by ranges of km. In the next step i'll be making some counts and i expect to have a better understanding."
      ]
    },
    {
      "cell_type": "code",
      "metadata": {
        "colab": {
          "base_uri": "https://localhost:8080/"
        },
        "id": "ppvs_eOC-gnn",
        "outputId": "8119e938-0f50-43e6-a1a5-a86d587f7745"
      },
      "source": [
        "#counting the number of entries that are same for odometer\r\n",
        "print('Odometer_km:','\\n', odometer_km_c.value_counts().sort_index(ascending=False))"
      ],
      "execution_count": 14,
      "outputs": [
        {
          "output_type": "stream",
          "text": [
            "Odometer_km: \n",
            " 150000    32424\n",
            "125000     5170\n",
            "100000     2169\n",
            "90000      1757\n",
            "80000      1436\n",
            "70000      1230\n",
            "60000      1164\n",
            "50000      1027\n",
            "40000       819\n",
            "30000       789\n",
            "20000       784\n",
            "10000       264\n",
            "5000        967\n",
            "Name: odometer_km, dtype: int64\n"
          ],
          "name": "stdout"
        }
      ]
    },
    {
      "cell_type": "markdown",
      "metadata": {
        "id": "mnwNRU6dAwpY"
      },
      "source": [
        "As we can see in the last cell the values of the odometer are rounded and organized in some ranges. And a great quantity of cars had more than 150.000 km."
      ]
    },
    {
      "cell_type": "code",
      "metadata": {
        "colab": {
          "base_uri": "https://localhost:8080/"
        },
        "id": "aTuYr8_2Aw8P",
        "outputId": "e2f76b4c-71ec-49d5-992e-9572dd9cfe10"
      },
      "source": [
        "#counting the number of entries that are same for price\r\n",
        "print('Price high:','\\n', price_c.value_counts().sort_index(ascending=False).head(20))\r\n",
        "print('\\n')\r\n",
        "print('Price low:','\\n', price_c.value_counts().sort_index(ascending=True).head(20))"
      ],
      "execution_count": 15,
      "outputs": [
        {
          "output_type": "stream",
          "text": [
            "Price high: \n",
            " 99999999    1\n",
            "27322222    1\n",
            "12345678    3\n",
            "11111111    2\n",
            "10000000    1\n",
            "3890000     1\n",
            "1300000     1\n",
            "1234566     1\n",
            "999999      2\n",
            "999990      1\n",
            "350000      1\n",
            "345000      1\n",
            "299000      1\n",
            "295000      1\n",
            "265000      1\n",
            "259000      1\n",
            "250000      1\n",
            "220000      1\n",
            "198000      1\n",
            "197000      1\n",
            "Name: price, dtype: int64\n",
            "\n",
            "\n",
            "Price low: \n",
            " 0     1421\n",
            "1      156\n",
            "2        3\n",
            "3        1\n",
            "5        2\n",
            "8        1\n",
            "9        1\n",
            "10       7\n",
            "11       2\n",
            "12       3\n",
            "13       2\n",
            "14       1\n",
            "15       2\n",
            "17       3\n",
            "18       1\n",
            "20       4\n",
            "25       5\n",
            "29       1\n",
            "30       7\n",
            "35       1\n",
            "Name: price, dtype: int64\n"
          ],
          "name": "stdout"
        }
      ]
    },
    {
      "cell_type": "markdown",
      "metadata": {
        "id": "VqhDLWK-6ubY"
      },
      "source": [
        "》In the column price there are more interesting things like cars by a price of $0, that have to be an error so maybe it will be better delete that rows (1.421 from 50.000). On the other hand, are the expensive cars not many but at least 13 cost more than 1 million USD.\r\n",
        "<br><br>\r\n",
        "As eBay is an auction site I wil maintain the items with a value of 1 but i'll limit the selecticon to the prices of 350.000 USD."
      ]
    },
    {
      "cell_type": "code",
      "metadata": {
        "colab": {
          "base_uri": "https://localhost:8080/"
        },
        "id": "JYqUU1aKDywQ",
        "outputId": "9549c00e-82e5-4189-a772-ad21349353f0"
      },
      "source": [
        "#removing the rows that don't seem reliable\r\n",
        "autos = autos[autos[\"price\"].between(1,351000)]\r\n",
        "autos[\"price\"].describe()"
      ],
      "execution_count": 16,
      "outputs": [
        {
          "output_type": "execute_result",
          "data": {
            "text/plain": [
              "count     48565.000000\n",
              "mean       5888.935591\n",
              "std        9059.854754\n",
              "min           1.000000\n",
              "25%        1200.000000\n",
              "50%        3000.000000\n",
              "75%        7490.000000\n",
              "max      350000.000000\n",
              "Name: price, dtype: float64"
            ]
          },
          "metadata": {
            "tags": []
          },
          "execution_count": 16
        }
      ]
    },
    {
      "cell_type": "markdown",
      "metadata": {
        "id": "YP_NZjRaBgg2"
      },
      "source": [
        "**Observations**<br>\r\n",
        "》Now we have a dataset with 48.565 rows and cleaner."
      ]
    },
    {
      "cell_type": "markdown",
      "metadata": {
        "id": "pOTgxaSVFA_G"
      },
      "source": [
        "### **4. Exploring the date columns:**"
      ]
    },
    {
      "cell_type": "markdown",
      "metadata": {
        "id": "P6lBH5eKCaa3"
      },
      "source": [
        "Right now, the `date_crawled`, `last_seen`, and `ad_created `columns are all identified as string values by pandas. Because these three columns are represented as strings, we need to convert the data into a numerical representation so we can understand it quantitatively. "
      ]
    },
    {
      "cell_type": "code",
      "metadata": {
        "id": "Ksyanwz4FJPF",
        "colab": {
          "base_uri": "https://localhost:8080/",
          "height": 204
        },
        "outputId": "cce21945-7ec0-4935-fdfd-cc3955789d04"
      },
      "source": [
        "autos[['date_crawled','ad_created','last_seen']][0:5]"
      ],
      "execution_count": 17,
      "outputs": [
        {
          "output_type": "execute_result",
          "data": {
            "text/html": [
              "<div>\n",
              "<style scoped>\n",
              "    .dataframe tbody tr th:only-of-type {\n",
              "        vertical-align: middle;\n",
              "    }\n",
              "\n",
              "    .dataframe tbody tr th {\n",
              "        vertical-align: top;\n",
              "    }\n",
              "\n",
              "    .dataframe thead th {\n",
              "        text-align: right;\n",
              "    }\n",
              "</style>\n",
              "<table border=\"1\" class=\"dataframe\">\n",
              "  <thead>\n",
              "    <tr style=\"text-align: right;\">\n",
              "      <th></th>\n",
              "      <th>date_crawled</th>\n",
              "      <th>ad_created</th>\n",
              "      <th>last_seen</th>\n",
              "    </tr>\n",
              "  </thead>\n",
              "  <tbody>\n",
              "    <tr>\n",
              "      <th>0</th>\n",
              "      <td>2016-03-26 17:47:46</td>\n",
              "      <td>2016-03-26 00:00:00</td>\n",
              "      <td>2016-04-06 06:45:54</td>\n",
              "    </tr>\n",
              "    <tr>\n",
              "      <th>1</th>\n",
              "      <td>2016-04-04 13:38:56</td>\n",
              "      <td>2016-04-04 00:00:00</td>\n",
              "      <td>2016-04-06 14:45:08</td>\n",
              "    </tr>\n",
              "    <tr>\n",
              "      <th>2</th>\n",
              "      <td>2016-03-26 18:57:24</td>\n",
              "      <td>2016-03-26 00:00:00</td>\n",
              "      <td>2016-04-06 20:15:37</td>\n",
              "    </tr>\n",
              "    <tr>\n",
              "      <th>3</th>\n",
              "      <td>2016-03-12 16:58:10</td>\n",
              "      <td>2016-03-12 00:00:00</td>\n",
              "      <td>2016-03-15 03:16:28</td>\n",
              "    </tr>\n",
              "    <tr>\n",
              "      <th>4</th>\n",
              "      <td>2016-04-01 14:38:50</td>\n",
              "      <td>2016-04-01 00:00:00</td>\n",
              "      <td>2016-04-01 14:38:50</td>\n",
              "    </tr>\n",
              "  </tbody>\n",
              "</table>\n",
              "</div>"
            ],
            "text/plain": [
              "          date_crawled           ad_created            last_seen\n",
              "0  2016-03-26 17:47:46  2016-03-26 00:00:00  2016-04-06 06:45:54\n",
              "1  2016-04-04 13:38:56  2016-04-04 00:00:00  2016-04-06 14:45:08\n",
              "2  2016-03-26 18:57:24  2016-03-26 00:00:00  2016-04-06 20:15:37\n",
              "3  2016-03-12 16:58:10  2016-03-12 00:00:00  2016-03-15 03:16:28\n",
              "4  2016-04-01 14:38:50  2016-04-01 00:00:00  2016-04-01 14:38:50"
            ]
          },
          "metadata": {
            "tags": []
          },
          "execution_count": 17
        }
      ]
    },
    {
      "cell_type": "markdown",
      "metadata": {
        "id": "PItt7sQuFiY0"
      },
      "source": [
        "The first 10 characters represent the day. To understand the date range, we can extract just the date values."
      ]
    },
    {
      "cell_type": "code",
      "metadata": {
        "id": "p9pvCJadEucd"
      },
      "source": [
        "#extract the date values, first 10 characters\r\n",
        "data_crawled = autos['date_crawled'].str[:10]\r\n",
        "ad_created = autos['ad_created'].str[:10]\r\n",
        "last_seen = autos['last_seen'].str[:10]"
      ],
      "execution_count": 18,
      "outputs": []
    },
    {
      "cell_type": "markdown",
      "metadata": {
        "id": "qzcUuBUcF55U"
      },
      "source": [
        "To calculate the distribution of values as percentages."
      ]
    },
    {
      "cell_type": "code",
      "metadata": {
        "colab": {
          "base_uri": "https://localhost:8080/"
        },
        "id": "W8gY32XVDTOY",
        "outputId": "65996a98-55a1-4a1b-aa34-c2dfbf887f8a"
      },
      "source": [
        "print(data_crawled.value_counts(normalize=True, dropna=False).sort_index(ascending=True).head(10))\r\n",
        "print(ad_created.value_counts(normalize=True, dropna=False).sort_index(ascending=False).head(10))\r\n",
        "print(last_seen.value_counts(normalize=True, dropna=False).sort_index(ascending=False).head(10))"
      ],
      "execution_count": 19,
      "outputs": [
        {
          "output_type": "stream",
          "text": [
            "2016-03-05    0.025327\n",
            "2016-03-06    0.014043\n",
            "2016-03-07    0.036014\n",
            "2016-03-08    0.033296\n",
            "2016-03-09    0.033090\n",
            "2016-03-10    0.032184\n",
            "2016-03-11    0.032575\n",
            "2016-03-12    0.036920\n",
            "2016-03-13    0.015670\n",
            "2016-03-14    0.036549\n",
            "Name: date_crawled, dtype: float64\n",
            "2016-04-07    0.001256\n",
            "2016-04-06    0.003253\n",
            "2016-04-05    0.011819\n",
            "2016-04-04    0.036858\n",
            "2016-04-03    0.038855\n",
            "2016-04-02    0.035149\n",
            "2016-04-01    0.033687\n",
            "2016-03-31    0.031875\n",
            "2016-03-30    0.033501\n",
            "2016-03-29    0.034037\n",
            "Name: ad_created, dtype: float64\n",
            "2016-04-07    0.131947\n",
            "2016-04-06    0.221806\n",
            "2016-04-05    0.124761\n",
            "2016-04-04    0.024483\n",
            "2016-04-03    0.025203\n",
            "2016-04-02    0.024915\n",
            "2016-04-01    0.022794\n",
            "2016-03-31    0.023783\n",
            "2016-03-30    0.024771\n",
            "2016-03-29    0.022341\n",
            "Name: last_seen, dtype: float64\n"
          ],
          "name": "stdout"
        }
      ]
    },
    {
      "cell_type": "code",
      "metadata": {
        "colab": {
          "base_uri": "https://localhost:8080/"
        },
        "id": "qONoiqI1GQfV",
        "outputId": "e4a64032-49d2-479e-9ead-fd2e74962ceb"
      },
      "source": [
        "autos['registration_year'].describe()"
      ],
      "execution_count": 20,
      "outputs": [
        {
          "output_type": "execute_result",
          "data": {
            "text/plain": [
              "count    48565.000000\n",
              "mean      2004.755421\n",
              "std         88.643887\n",
              "min       1000.000000\n",
              "25%       1999.000000\n",
              "50%       2004.000000\n",
              "75%       2008.000000\n",
              "max       9999.000000\n",
              "Name: registration_year, dtype: float64"
            ]
          },
          "metadata": {
            "tags": []
          },
          "execution_count": 20
        }
      ]
    },
    {
      "cell_type": "markdown",
      "metadata": {
        "id": "xIFN_53yIvKr"
      },
      "source": [
        "》In the last cell I find some strange values of years like 1.000  and 9.999. So I will choose a range more accurate to define which information could be interesting to analyze.<br>\r\n",
        "The car was invented in 1885 as this [link](https://www.loc.gov/everyday-mysteries/item/who-invented-the-automobile/#:~:text=Exactly%20who%20invented%20the%20automobile,true%20automobile%20in%201885%2F1886.) said, so my lowest value will be 1910 maybe people start to register cars in these days. And the maximum will be 2016 the year of creation of the dataset, so a registration year above 2016 is definitely inaccurate."
      ]
    },
    {
      "cell_type": "code",
      "metadata": {
        "colab": {
          "base_uri": "https://localhost:8080/"
        },
        "id": "MKdboj0fLfcM",
        "outputId": "af488c27-926a-4ef5-f181-628fe94a756d"
      },
      "source": [
        "#removing the rows that don't seem reliable\r\n",
        "autos = autos[autos['registration_year'].between(1910,2016)]\r\n",
        "print(autos['registration_year'].value_counts(normalize=True))\r\n",
        "print('\\n')\r\n",
        "print(autos['registration_year'].describe())"
      ],
      "execution_count": 21,
      "outputs": [
        {
          "output_type": "stream",
          "text": [
            "2000    0.067608\n",
            "2005    0.062895\n",
            "1999    0.062060\n",
            "2004    0.057904\n",
            "2003    0.057818\n",
            "          ...   \n",
            "1938    0.000021\n",
            "1948    0.000021\n",
            "1927    0.000021\n",
            "1931    0.000021\n",
            "1952    0.000021\n",
            "Name: registration_year, Length: 78, dtype: float64\n",
            "\n",
            "\n",
            "count    46681.000000\n",
            "mean      2002.910756\n",
            "std          7.185103\n",
            "min       1910.000000\n",
            "25%       1999.000000\n",
            "50%       2003.000000\n",
            "75%       2008.000000\n",
            "max       2016.000000\n",
            "Name: registration_year, dtype: float64\n"
          ],
          "name": "stdout"
        }
      ]
    },
    {
      "cell_type": "markdown",
      "metadata": {
        "id": "4V9rEjeuNNFt"
      },
      "source": [
        "**Observations**<br>\r\n",
        "》Now we have a dataset with 46.681 rows, in the last cell I delete 1881 rows from years that don't seem accurate."
      ]
    },
    {
      "cell_type": "markdown",
      "metadata": {
        "id": "n01lIwRON6qz"
      },
      "source": [
        "### **5. Exploring Price by Brand:**"
      ]
    },
    {
      "cell_type": "code",
      "metadata": {
        "colab": {
          "base_uri": "https://localhost:8080/"
        },
        "id": "vctufgVk3g_u",
        "outputId": "70164905-323e-4292-921b-f90e5ada4e48"
      },
      "source": [
        "autos[\"brand\"].value_counts(normalize=True)"
      ],
      "execution_count": 22,
      "outputs": [
        {
          "output_type": "execute_result",
          "data": {
            "text/plain": [
              "volkswagen        0.211264\n",
              "bmw               0.110045\n",
              "opel              0.107581\n",
              "mercedes_benz     0.096463\n",
              "audi              0.086566\n",
              "ford              0.069900\n",
              "renault           0.047150\n",
              "peugeot           0.029841\n",
              "fiat              0.025642\n",
              "seat              0.018273\n",
              "skoda             0.016409\n",
              "nissan            0.015274\n",
              "mazda             0.015188\n",
              "smart             0.014160\n",
              "citroen           0.014010\n",
              "toyota            0.012703\n",
              "hyundai           0.010025\n",
              "sonstige_autos    0.009811\n",
              "volvo             0.009147\n",
              "mini              0.008762\n",
              "mitsubishi        0.008226\n",
              "honda             0.007840\n",
              "kia               0.007069\n",
              "alfa_romeo        0.006641\n",
              "porsche           0.006127\n",
              "suzuki            0.005934\n",
              "chevrolet         0.005698\n",
              "chrysler          0.003513\n",
              "dacia             0.002635\n",
              "daihatsu          0.002506\n",
              "jeep              0.002271\n",
              "subaru            0.002142\n",
              "land_rover        0.002099\n",
              "saab              0.001649\n",
              "jaguar            0.001564\n",
              "daewoo            0.001500\n",
              "trabant           0.001392\n",
              "rover             0.001328\n",
              "lancia            0.001071\n",
              "lada              0.000578\n",
              "Name: brand, dtype: float64"
            ]
          },
          "metadata": {
            "tags": []
          },
          "execution_count": 22
        }
      ]
    },
    {
      "cell_type": "markdown",
      "metadata": {
        "id": "fDPvBjDm4PMz"
      },
      "source": [
        "》German brands represent around the %50 of the data. The most popular brand is Volkswagen followed by BMW.<br>\r\n",
        "\r\n",
        "There are a lot of brands that seem not to have many listings and for that reason I will limit my analysis only to the first 20 brands."
      ]
    },
    {
      "cell_type": "code",
      "metadata": {
        "colab": {
          "base_uri": "https://localhost:8080/"
        },
        "id": "s4bk9andKHeG",
        "outputId": "9b33c2bb-31bf-4e45-b01c-4991c2d9589e"
      },
      "source": [
        "top_brand_prices = {}\r\n",
        "brands = autos[\"brand\"].value_counts(normalize=True)\r\n",
        "brands = brands[:20].index\r\n",
        "for brand in brands:\r\n",
        "  brand_only = autos[autos[\"brand\"] == brand]\r\n",
        "  mean_price = brand_only[\"price\"].mean()\r\n",
        "  top_brand_prices[brand] = int(mean_price)\r\n",
        "\r\n",
        "top_brand_prices"
      ],
      "execution_count": 32,
      "outputs": [
        {
          "output_type": "execute_result",
          "data": {
            "text/plain": [
              "{'audi': 9336,\n",
              " 'bmw': 8332,\n",
              " 'citroen': 3779,\n",
              " 'fiat': 2813,\n",
              " 'ford': 3749,\n",
              " 'hyundai': 5365,\n",
              " 'mazda': 4112,\n",
              " 'mercedes_benz': 8628,\n",
              " 'mini': 10613,\n",
              " 'nissan': 4743,\n",
              " 'opel': 2975,\n",
              " 'peugeot': 3094,\n",
              " 'renault': 2474,\n",
              " 'seat': 4397,\n",
              " 'skoda': 6368,\n",
              " 'smart': 3580,\n",
              " 'sonstige_autos': 12338,\n",
              " 'toyota': 5167,\n",
              " 'volkswagen': 5402,\n",
              " 'volvo': 4946}"
            ]
          },
          "metadata": {
            "tags": []
          },
          "execution_count": 32
        }
      ]
    },
    {
      "cell_type": "markdown",
      "metadata": {
        "id": "NoSXbH0G8ViE"
      },
      "source": [
        "From the results for the first 20 brands of the data we can observe the following:\r\n",
        "\r\n",
        "1.   'mini', 'audi' and 'mercedes_benz' are the most expensive brands, actually the most expensive is 'sonstige_autos' but this is a miscelaneous label and for that reason this information is difficult to use.\r\n",
        "2.   'renault', 'fiat' and 'opel' are the cheapest brands from the dataset."
      ]
    },
    {
      "cell_type": "markdown",
      "metadata": {
        "id": "LsnUXtwg-lFG"
      },
      "source": [
        "### **6. Storing Aggregate Data in a DataFrame:**"
      ]
    },
    {
      "cell_type": "code",
      "metadata": {
        "colab": {
          "base_uri": "https://localhost:8080/",
          "height": 669
        },
        "id": "ZZ_LQ87r-koK",
        "outputId": "93f9f47d-178d-4393-c0f8-f5272dca15fd"
      },
      "source": [
        "bmp_series = pd.Series(top_brand_prices)\r\n",
        "pd.DataFrame(bmp_series, columns=[\"mean_price\"])"
      ],
      "execution_count": 33,
      "outputs": [
        {
          "output_type": "execute_result",
          "data": {
            "text/html": [
              "<div>\n",
              "<style scoped>\n",
              "    .dataframe tbody tr th:only-of-type {\n",
              "        vertical-align: middle;\n",
              "    }\n",
              "\n",
              "    .dataframe tbody tr th {\n",
              "        vertical-align: top;\n",
              "    }\n",
              "\n",
              "    .dataframe thead th {\n",
              "        text-align: right;\n",
              "    }\n",
              "</style>\n",
              "<table border=\"1\" class=\"dataframe\">\n",
              "  <thead>\n",
              "    <tr style=\"text-align: right;\">\n",
              "      <th></th>\n",
              "      <th>mean_price</th>\n",
              "    </tr>\n",
              "  </thead>\n",
              "  <tbody>\n",
              "    <tr>\n",
              "      <th>volkswagen</th>\n",
              "      <td>5402</td>\n",
              "    </tr>\n",
              "    <tr>\n",
              "      <th>bmw</th>\n",
              "      <td>8332</td>\n",
              "    </tr>\n",
              "    <tr>\n",
              "      <th>opel</th>\n",
              "      <td>2975</td>\n",
              "    </tr>\n",
              "    <tr>\n",
              "      <th>mercedes_benz</th>\n",
              "      <td>8628</td>\n",
              "    </tr>\n",
              "    <tr>\n",
              "      <th>audi</th>\n",
              "      <td>9336</td>\n",
              "    </tr>\n",
              "    <tr>\n",
              "      <th>ford</th>\n",
              "      <td>3749</td>\n",
              "    </tr>\n",
              "    <tr>\n",
              "      <th>renault</th>\n",
              "      <td>2474</td>\n",
              "    </tr>\n",
              "    <tr>\n",
              "      <th>peugeot</th>\n",
              "      <td>3094</td>\n",
              "    </tr>\n",
              "    <tr>\n",
              "      <th>fiat</th>\n",
              "      <td>2813</td>\n",
              "    </tr>\n",
              "    <tr>\n",
              "      <th>seat</th>\n",
              "      <td>4397</td>\n",
              "    </tr>\n",
              "    <tr>\n",
              "      <th>skoda</th>\n",
              "      <td>6368</td>\n",
              "    </tr>\n",
              "    <tr>\n",
              "      <th>nissan</th>\n",
              "      <td>4743</td>\n",
              "    </tr>\n",
              "    <tr>\n",
              "      <th>mazda</th>\n",
              "      <td>4112</td>\n",
              "    </tr>\n",
              "    <tr>\n",
              "      <th>smart</th>\n",
              "      <td>3580</td>\n",
              "    </tr>\n",
              "    <tr>\n",
              "      <th>citroen</th>\n",
              "      <td>3779</td>\n",
              "    </tr>\n",
              "    <tr>\n",
              "      <th>toyota</th>\n",
              "      <td>5167</td>\n",
              "    </tr>\n",
              "    <tr>\n",
              "      <th>hyundai</th>\n",
              "      <td>5365</td>\n",
              "    </tr>\n",
              "    <tr>\n",
              "      <th>sonstige_autos</th>\n",
              "      <td>12338</td>\n",
              "    </tr>\n",
              "    <tr>\n",
              "      <th>volvo</th>\n",
              "      <td>4946</td>\n",
              "    </tr>\n",
              "    <tr>\n",
              "      <th>mini</th>\n",
              "      <td>10613</td>\n",
              "    </tr>\n",
              "  </tbody>\n",
              "</table>\n",
              "</div>"
            ],
            "text/plain": [
              "                mean_price\n",
              "volkswagen            5402\n",
              "bmw                   8332\n",
              "opel                  2975\n",
              "mercedes_benz         8628\n",
              "audi                  9336\n",
              "ford                  3749\n",
              "renault               2474\n",
              "peugeot               3094\n",
              "fiat                  2813\n",
              "seat                  4397\n",
              "skoda                 6368\n",
              "nissan                4743\n",
              "mazda                 4112\n",
              "smart                 3580\n",
              "citroen               3779\n",
              "toyota                5167\n",
              "hyundai               5365\n",
              "sonstige_autos       12338\n",
              "volvo                 4946\n",
              "mini                 10613"
            ]
          },
          "metadata": {
            "tags": []
          },
          "execution_count": 33
        }
      ]
    },
    {
      "cell_type": "code",
      "metadata": {
        "id": "YSMbF8ydBwFV"
      },
      "source": [
        "brand_mean_mileage = {}\r\n",
        "\r\n",
        "for brand in brands:\r\n",
        "    brand_only = autos[autos[\"brand\"] == brand]\r\n",
        "    mean_mileage = brand_only[\"odometer_km\"].mean()\r\n",
        "    brand_mean_mileage[brand] = int(mean_mileage)\r\n",
        "\r\n",
        "mean_mileage = pd.Series(brand_mean_mileage).sort_values(ascending=False)\r\n",
        "mean_prices = pd.Series(top_brand_prices).sort_values(ascending=False)"
      ],
      "execution_count": 35,
      "outputs": []
    },
    {
      "cell_type": "code",
      "metadata": {
        "colab": {
          "base_uri": "https://localhost:8080/",
          "height": 669
        },
        "id": "mG9nN-gvByXc",
        "outputId": "2aedb25d-37cd-4f3c-8325-2f0142666d3f"
      },
      "source": [
        "brand_info = pd.DataFrame(mean_mileage,columns=['mean_mileage'])\r\n",
        "brand_info"
      ],
      "execution_count": 36,
      "outputs": [
        {
          "output_type": "execute_result",
          "data": {
            "text/html": [
              "<div>\n",
              "<style scoped>\n",
              "    .dataframe tbody tr th:only-of-type {\n",
              "        vertical-align: middle;\n",
              "    }\n",
              "\n",
              "    .dataframe tbody tr th {\n",
              "        vertical-align: top;\n",
              "    }\n",
              "\n",
              "    .dataframe thead th {\n",
              "        text-align: right;\n",
              "    }\n",
              "</style>\n",
              "<table border=\"1\" class=\"dataframe\">\n",
              "  <thead>\n",
              "    <tr style=\"text-align: right;\">\n",
              "      <th></th>\n",
              "      <th>mean_mileage</th>\n",
              "    </tr>\n",
              "  </thead>\n",
              "  <tbody>\n",
              "    <tr>\n",
              "      <th>volvo</th>\n",
              "      <td>138067</td>\n",
              "    </tr>\n",
              "    <tr>\n",
              "      <th>bmw</th>\n",
              "      <td>132572</td>\n",
              "    </tr>\n",
              "    <tr>\n",
              "      <th>mercedes_benz</th>\n",
              "      <td>130788</td>\n",
              "    </tr>\n",
              "    <tr>\n",
              "      <th>opel</th>\n",
              "      <td>129310</td>\n",
              "    </tr>\n",
              "    <tr>\n",
              "      <th>audi</th>\n",
              "      <td>129157</td>\n",
              "    </tr>\n",
              "    <tr>\n",
              "      <th>volkswagen</th>\n",
              "      <td>128707</td>\n",
              "    </tr>\n",
              "    <tr>\n",
              "      <th>renault</th>\n",
              "      <td>128071</td>\n",
              "    </tr>\n",
              "    <tr>\n",
              "      <th>peugeot</th>\n",
              "      <td>127153</td>\n",
              "    </tr>\n",
              "    <tr>\n",
              "      <th>mazda</th>\n",
              "      <td>124464</td>\n",
              "    </tr>\n",
              "    <tr>\n",
              "      <th>ford</th>\n",
              "      <td>124266</td>\n",
              "    </tr>\n",
              "    <tr>\n",
              "      <th>seat</th>\n",
              "      <td>121131</td>\n",
              "    </tr>\n",
              "    <tr>\n",
              "      <th>citroen</th>\n",
              "      <td>119694</td>\n",
              "    </tr>\n",
              "    <tr>\n",
              "      <th>nissan</th>\n",
              "      <td>118330</td>\n",
              "    </tr>\n",
              "    <tr>\n",
              "      <th>fiat</th>\n",
              "      <td>117121</td>\n",
              "    </tr>\n",
              "    <tr>\n",
              "      <th>toyota</th>\n",
              "      <td>115944</td>\n",
              "    </tr>\n",
              "    <tr>\n",
              "      <th>skoda</th>\n",
              "      <td>110848</td>\n",
              "    </tr>\n",
              "    <tr>\n",
              "      <th>hyundai</th>\n",
              "      <td>106442</td>\n",
              "    </tr>\n",
              "    <tr>\n",
              "      <th>smart</th>\n",
              "      <td>99326</td>\n",
              "    </tr>\n",
              "    <tr>\n",
              "      <th>sonstige_autos</th>\n",
              "      <td>89956</td>\n",
              "    </tr>\n",
              "    <tr>\n",
              "      <th>mini</th>\n",
              "      <td>88105</td>\n",
              "    </tr>\n",
              "  </tbody>\n",
              "</table>\n",
              "</div>"
            ],
            "text/plain": [
              "                mean_mileage\n",
              "volvo                 138067\n",
              "bmw                   132572\n",
              "mercedes_benz         130788\n",
              "opel                  129310\n",
              "audi                  129157\n",
              "volkswagen            128707\n",
              "renault               128071\n",
              "peugeot               127153\n",
              "mazda                 124464\n",
              "ford                  124266\n",
              "seat                  121131\n",
              "citroen               119694\n",
              "nissan                118330\n",
              "fiat                  117121\n",
              "toyota                115944\n",
              "skoda                 110848\n",
              "hyundai               106442\n",
              "smart                  99326\n",
              "sonstige_autos         89956\n",
              "mini                   88105"
            ]
          },
          "metadata": {
            "tags": []
          },
          "execution_count": 36
        }
      ]
    },
    {
      "cell_type": "code",
      "metadata": {
        "colab": {
          "base_uri": "https://localhost:8080/",
          "height": 669
        },
        "id": "ErzYM0eaB2dd",
        "outputId": "a1d865e6-12ff-4c59-8d90-9380c7fced2c"
      },
      "source": [
        "brand_info[\"mean_price\"] = mean_prices\r\n",
        "brand_info"
      ],
      "execution_count": 37,
      "outputs": [
        {
          "output_type": "execute_result",
          "data": {
            "text/html": [
              "<div>\n",
              "<style scoped>\n",
              "    .dataframe tbody tr th:only-of-type {\n",
              "        vertical-align: middle;\n",
              "    }\n",
              "\n",
              "    .dataframe tbody tr th {\n",
              "        vertical-align: top;\n",
              "    }\n",
              "\n",
              "    .dataframe thead th {\n",
              "        text-align: right;\n",
              "    }\n",
              "</style>\n",
              "<table border=\"1\" class=\"dataframe\">\n",
              "  <thead>\n",
              "    <tr style=\"text-align: right;\">\n",
              "      <th></th>\n",
              "      <th>mean_mileage</th>\n",
              "      <th>mean_price</th>\n",
              "    </tr>\n",
              "  </thead>\n",
              "  <tbody>\n",
              "    <tr>\n",
              "      <th>volvo</th>\n",
              "      <td>138067</td>\n",
              "      <td>4946</td>\n",
              "    </tr>\n",
              "    <tr>\n",
              "      <th>bmw</th>\n",
              "      <td>132572</td>\n",
              "      <td>8332</td>\n",
              "    </tr>\n",
              "    <tr>\n",
              "      <th>mercedes_benz</th>\n",
              "      <td>130788</td>\n",
              "      <td>8628</td>\n",
              "    </tr>\n",
              "    <tr>\n",
              "      <th>opel</th>\n",
              "      <td>129310</td>\n",
              "      <td>2975</td>\n",
              "    </tr>\n",
              "    <tr>\n",
              "      <th>audi</th>\n",
              "      <td>129157</td>\n",
              "      <td>9336</td>\n",
              "    </tr>\n",
              "    <tr>\n",
              "      <th>volkswagen</th>\n",
              "      <td>128707</td>\n",
              "      <td>5402</td>\n",
              "    </tr>\n",
              "    <tr>\n",
              "      <th>renault</th>\n",
              "      <td>128071</td>\n",
              "      <td>2474</td>\n",
              "    </tr>\n",
              "    <tr>\n",
              "      <th>peugeot</th>\n",
              "      <td>127153</td>\n",
              "      <td>3094</td>\n",
              "    </tr>\n",
              "    <tr>\n",
              "      <th>mazda</th>\n",
              "      <td>124464</td>\n",
              "      <td>4112</td>\n",
              "    </tr>\n",
              "    <tr>\n",
              "      <th>ford</th>\n",
              "      <td>124266</td>\n",
              "      <td>3749</td>\n",
              "    </tr>\n",
              "    <tr>\n",
              "      <th>seat</th>\n",
              "      <td>121131</td>\n",
              "      <td>4397</td>\n",
              "    </tr>\n",
              "    <tr>\n",
              "      <th>citroen</th>\n",
              "      <td>119694</td>\n",
              "      <td>3779</td>\n",
              "    </tr>\n",
              "    <tr>\n",
              "      <th>nissan</th>\n",
              "      <td>118330</td>\n",
              "      <td>4743</td>\n",
              "    </tr>\n",
              "    <tr>\n",
              "      <th>fiat</th>\n",
              "      <td>117121</td>\n",
              "      <td>2813</td>\n",
              "    </tr>\n",
              "    <tr>\n",
              "      <th>toyota</th>\n",
              "      <td>115944</td>\n",
              "      <td>5167</td>\n",
              "    </tr>\n",
              "    <tr>\n",
              "      <th>skoda</th>\n",
              "      <td>110848</td>\n",
              "      <td>6368</td>\n",
              "    </tr>\n",
              "    <tr>\n",
              "      <th>hyundai</th>\n",
              "      <td>106442</td>\n",
              "      <td>5365</td>\n",
              "    </tr>\n",
              "    <tr>\n",
              "      <th>smart</th>\n",
              "      <td>99326</td>\n",
              "      <td>3580</td>\n",
              "    </tr>\n",
              "    <tr>\n",
              "      <th>sonstige_autos</th>\n",
              "      <td>89956</td>\n",
              "      <td>12338</td>\n",
              "    </tr>\n",
              "    <tr>\n",
              "      <th>mini</th>\n",
              "      <td>88105</td>\n",
              "      <td>10613</td>\n",
              "    </tr>\n",
              "  </tbody>\n",
              "</table>\n",
              "</div>"
            ],
            "text/plain": [
              "                mean_mileage  mean_price\n",
              "volvo                 138067        4946\n",
              "bmw                   132572        8332\n",
              "mercedes_benz         130788        8628\n",
              "opel                  129310        2975\n",
              "audi                  129157        9336\n",
              "volkswagen            128707        5402\n",
              "renault               128071        2474\n",
              "peugeot               127153        3094\n",
              "mazda                 124464        4112\n",
              "ford                  124266        3749\n",
              "seat                  121131        4397\n",
              "citroen               119694        3779\n",
              "nissan                118330        4743\n",
              "fiat                  117121        2813\n",
              "toyota                115944        5167\n",
              "skoda                 110848        6368\n",
              "hyundai               106442        5365\n",
              "smart                  99326        3580\n",
              "sonstige_autos         89956       12338\n",
              "mini                   88105       10613"
            ]
          },
          "metadata": {
            "tags": []
          },
          "execution_count": 37
        }
      ]
    },
    {
      "cell_type": "markdown",
      "metadata": {
        "id": "Klu__LAkCkfd"
      },
      "source": [
        "From the results for the first 20 brands of the data we can observe that don't exist an apparent relation between the cost and the mileage.\r\n",
        "\r\n",
        "1.   The most expensive brands: 'audi' and 'mercedes_benz' show a mileage around 130.000 km. 'mini' shows a mileage of around 88.000 km\r\n",
        "2.   The cheapest brands: 'renault', 'fiat' and 'opel' show a mileage around 130.000 km."
      ]
    },
    {
      "cell_type": "markdown",
      "metadata": {
        "id": "XhGUkKjNCi-X"
      },
      "source": [
        "Data cleaning next steps:\r\n",
        "Identify categorical data that uses german words, translate them and map the values to their english counterparts\r\n",
        "Convert the dates to be uniform numeric data, so \"2016-03-21\" becomes the integer 20160321.\r\n",
        "See if there are particular keywords in the name column that you can extract as new columns.<br><br>\r\n",
        "Analysis next steps:\r\n",
        "Find the most common brand/model combinations\r\n",
        "Split the odometer_km into groups, and use aggregation to see if average prices follows any patterns based on the mileage.\r\n",
        "How much cheaper are cars with damage than their non-damaged counterparts?"
      ]
    }
  ]
}